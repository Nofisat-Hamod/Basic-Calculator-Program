{
 "cells": [
  {
   "cell_type": "markdown",
   "id": "f57a2cd3-d799-4cb1-a67d-447c433baf00",
   "metadata": {},
   "source": [
    "### Instructions:\n",
    "\n",
    "*Basic Calculator Program*\n",
    "- Create a simple Python program that asks the user to input two numbers and a mathematical operation (addition, subtraction, multiplication, or division).\n",
    "- Perform the operation based on the user's input and print the result.\n",
    "- Example: If a user inputs 10, 5, and +, your program should display 10 + 5 = 15."
   ]
  },
  {
   "cell_type": "code",
   "execution_count": 3,
   "id": "36ccf4a9-bb36-4a10-a36b-1946f70191c3",
   "metadata": {},
   "outputs": [
    {
     "name": "stdin",
     "output_type": "stream",
     "text": [
      "Enter Number 1:  10\n",
      "Enter Number 2:  5\n",
      "Enter an Operator (+, -, *, /):  +\n"
     ]
    },
    {
     "name": "stdout",
     "output_type": "stream",
     "text": [
      "15.0\n"
     ]
    }
   ],
   "source": [
    "def get_number(prompt):\n",
    "    while True:\n",
    "        try:\n",
    "            return float(input(prompt))\n",
    "        except ValueError:\n",
    "            print(\"Error: Please enter a valid number. Try again.\")\n",
    "\n",
    "\n",
    "num1 = get_number(\"Enter Number 1: \")\n",
    "num2 = get_number(\"Enter Number 2: \")\n",
    "\n",
    "oper = input(\"Enter an Operator (+, -, *, /): \")\n",
    "\n",
    "\n",
    "output = 0\n",
    "if oper == \"+\":\n",
    "    output = num1 + num2\n",
    "elif oper == \"-\":\n",
    "    output = num1 - num2\n",
    "elif oper == \"*\":\n",
    "    output = num1 * num2\n",
    "elif oper == \"/\":\n",
    "    if num2 == 0:\n",
    "        print(\"Error: Division by zero is not allowed.\")\n",
    "    else:\n",
    "        output = num1 / num2\n",
    "else:\n",
    "    print(\"Invalid operation. Please use +, -, *, or /.\")\n",
    "    \n",
    "\n",
    "print(output)"
   ]
  },
  {
   "cell_type": "code",
   "execution_count": null,
   "id": "2234eec8-9174-452d-9026-2ecd7c784827",
   "metadata": {},
   "outputs": [],
   "source": []
  }
 ],
 "metadata": {
  "kernelspec": {
   "display_name": "Python 3 (ipykernel)",
   "language": "python",
   "name": "python3"
  },
  "language_info": {
   "codemirror_mode": {
    "name": "ipython",
    "version": 3
   },
   "file_extension": ".py",
   "mimetype": "text/x-python",
   "name": "python",
   "nbconvert_exporter": "python",
   "pygments_lexer": "ipython3",
   "version": "3.13.2"
  }
 },
 "nbformat": 4,
 "nbformat_minor": 5
}
